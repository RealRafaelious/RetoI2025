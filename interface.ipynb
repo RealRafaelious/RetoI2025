{
 "cells": [
  {
   "cell_type": "markdown",
   "id": "54c83950",
   "metadata": {},
   "source": [
    "RETO 1 - CEIBAL\n"
   ]
  },
  {
   "cell_type": "code",
   "execution_count": 1,
   "id": "69f362b0",
   "metadata": {},
   "outputs": [
    {
     "name": "stdout",
     "output_type": "stream",
     "text": [
      "\n",
      "Valores únicos después de limpiar:\n",
      "['Quintil 3' 'Quintil 5' 'Quintil 1' 'Quintil 4' 'Quintil 2'\n",
      " 'sin identificar']\n",
      "\n",
      "Cantidad de \"sin identificar\": 7\n",
      "Total de filas: 260\n",
      "\n",
      "Guardando en: c:\\Users\\arias\\Desktop\\RETO1\\RetoI2025\\TablasActuales\\Tabla_centros_7moa9no_limpia.xlsx\n",
      "\n",
      "Archivo guardado correctamente.\n",
      "Filas eliminadas por valores nulos en columnas críticas: 0\n",
      "Filas restantes después de eliminar nulos: 48673\n",
      "Edad promedio de docentes (en datos limpios antes de corregir menores): 40.92\n",
      "Se detectaron y corrigieron 5 docentes con edad menor a 18. Ahora tienen edad = 41.\n",
      "\n",
      "--- RESUMEN DE LA LIMPIEZA ---\n",
      "Limpieza completada.\n",
      "Docentes válidos guardados: 11700\n",
      "Docentes con datos 'desconocido' (ya sean duplicados o únicos) separados: 27\n",
      "Cantidad de celdas con valor \"desconocido\" en el DataFrame final (debería ser 0): 0\n",
      "Archivo 'c:\\Users\\arias\\Desktop\\RETO1\\RetoI2025\\Limpieza\\..\\TablasIniciales\\Tabla_estudiantes_7moa9no.xlsx' cargado exitosamente!\n",
      "Nombres de columnas limpiados exitosamente.\n",
      "Columna 'grupo' normalizada.\n",
      "\n",
      "--- Iniciando formateo de fechas ---\n",
      "Columna 'primera_conexion_crea' ya está en formato de fecha. No se requiere conversión.\n",
      "Columna 'primera_conexion_dispositivo' ya está en formato de fecha. No se requiere conversión.\n",
      "--- Fin formateo de fechas ---\n",
      "\n",
      "\n",
      "--- Aplicando filtro: estudiantes con menos de 10 días de conexión (cr_total_dias_ingreso) serán eliminados ---\n",
      "Filas eliminadas por menos de 10 días de conexión: 7929\n",
      "Filas restantes después del filtro de conexión: 94182\n",
      "--- Fin del filtro por días de conexión ---\n",
      "\n",
      "Columna 'primera_conexion_crea' formateada a string para exportación a Excel.\n",
      "Columna 'primera_conexion_dispositivo' formateada a string para exportación a Excel.\n",
      "Estudiantes válidos guardados en: 'c:\\Users\\arias\\Desktop\\RETO1\\RetoI2025\\Limpieza\\..\\TablasActuales\\Tabla_estudiantes_7moa9no_limpia.xlsx'\n",
      "Estudiantes con solo datos 'desconocido' separados en: 'c:\\Users\\arias\\Desktop\\RETO1\\RetoI2025\\Limpieza\\..\\Segregaciones\\Estudiantes_solo_desconocidos.xlsx'\n",
      "\n",
      "--- Resumen de la Limpieza ---\n",
      "Limpieza completada.\n",
      "Estudiantes válidos guardados: 88041\n",
      "Estudiantes con solo datos 'desconocido' separados: 0\n",
      "Cantidad total de celdas con valor \"desconocido\" (antes de la segregación final): 6205\n",
      "----------------------------\n"
     ]
    },
    {
     "data": {
      "text/plain": [
       "<module 'Limpieza.LimpiarEstudiantes' from 'c:\\\\Users\\\\arias\\\\Desktop\\\\RETO1\\\\RetoI2025\\\\Limpieza\\\\LimpiarEstudiantes.py'>"
      ]
     },
     "execution_count": 1,
     "metadata": {},
     "output_type": "execute_result"
    }
   ],
   "source": [
    "from Limpieza import LimpiarCentros # si LimpiarCentros.py contiene la lógica de limpieza\n",
    "from Limpieza import LimpiarDocentes\n",
    "from Limpieza import LimpiarEstudiantes \n",
    "\n",
    "#Primero se llama a los scripts de limpieza de datos \n",
    "LimpiarCentros\n",
    "LimpiarDocentes\n",
    "LimpiarEstudiantes"
   ]
  },
  {
   "cell_type": "markdown",
   "id": "f6a57603",
   "metadata": {},
   "source": [
    "Pregunta 1. ¿Varía el uso de la plataforma CREA según el grado educativo? ¿Hay diferencias por sexo?\n"
   ]
  },
  {
   "cell_type": "code",
   "execution_count": null,
   "id": "741ef752",
   "metadata": {},
   "outputs": [],
   "source": [
    "from Preguntas import Pregunta1\n",
    "Pregunta1"
   ]
  },
  {
   "cell_type": "markdown",
   "id": "e5434228",
   "metadata": {},
   "source": [
    "2. ¿Hay diferencia entre el uso de CREA y la conexión por dispositivo? ¿Correlacionan?\n"
   ]
  },
  {
   "cell_type": "code",
   "execution_count": null,
   "id": "ca15addb",
   "metadata": {},
   "outputs": [],
   "source": [
    "from Preguntas import Pregunta2\n",
    "Pregunta2"
   ]
  },
  {
   "cell_type": "markdown",
   "id": "68554c42",
   "metadata": {},
   "source": [
    "Pregunta 3. ¿Hay diferencias de uso del dispositivo y de CREA por contextos de vulnerabilidad?\n"
   ]
  },
  {
   "cell_type": "code",
   "execution_count": null,
   "id": "55e8d627",
   "metadata": {},
   "outputs": [],
   "source": [
    "from Preguntas import Pregunta3\n",
    "Pregunta3"
   ]
  },
  {
   "cell_type": "markdown",
   "id": "d34e2b45",
   "metadata": {},
   "source": [
    "Pregunta 4. ¿Los estudiantes que comparten docente muestran patrones de uso similares?\n"
   ]
  },
  {
   "cell_type": "code",
   "execution_count": null,
   "id": "22b21893",
   "metadata": {},
   "outputs": [],
   "source": [
    "from Preguntas import Pregunta4\n",
    "Pregunta4"
   ]
  },
  {
   "cell_type": "markdown",
   "id": "bee0f9a5",
   "metadata": {},
   "source": [
    "Pregunta 5. ¿El sexo del docente influye en el nivel de conexión de sus estudiantes?\n"
   ]
  },
  {
   "cell_type": "code",
   "execution_count": 2,
   "id": "69f7fab7",
   "metadata": {},
   "outputs": [
    {
     "name": "stdout",
     "output_type": "stream",
     "text": [
      "Promedio conexión (docente mujer): 100.45\n",
      "Promedio conexión (docente varón): 99.62\n",
      "p-valor: 0.2028\n",
      "No hay evidencia significativa de que influya el sexo del docente.\n"
     ]
    },
    {
     "name": "stderr",
     "output_type": "stream",
     "text": [
      "c:\\Users\\arias\\Desktop\\RETO1\\RetoI2025\\Preguntas\\Pregunta5.py:39: FutureWarning: \n",
      "\n",
      "Passing `palette` without assigning `hue` is deprecated and will be removed in v0.14.0. Assign the `x` variable to `hue` and set `legend=False` for the same effect.\n",
      "\n",
      "  sns.boxplot(data=df_filtrado, x=\"sexo_docente\", y=\"dias_de_conexion_dispositivo\", palette=\"pastel\")\n"
     ]
    },
    {
     "data": {
      "image/png": "[encoded data removed]",
      "text/plain": [
       "<Figure size 800x600 with 1 Axes>"
      ]
     },
     "metadata": {},
     "output_type": "display_data"
    },
    {
     "data": {
      "text/plain": [
       "<module 'Preguntas.Pregunta5' from 'c:\\\\Users\\\\arias\\\\Desktop\\\\RETO1\\\\RetoI2025\\\\Preguntas\\\\Pregunta5.py'>"
      ]
     },
     "execution_count": 2,
     "metadata": {},
     "output_type": "execute_result"
    }
   ],
   "source": [
    "from Preguntas import Pregunta5\n",
    "Pregunta5"
   ]
  }
 ],
 "metadata": {
  "kernelspec": {
   "display_name": "Python 3",
   "language": "python",
   "name": "python3"
  },
  "language_info": {
   "codemirror_mode": {
    "name": "ipython",
    "version": 3
   },
   "file_extension": ".py",
   "mimetype": "text/x-python",
   "name": "python",
   "nbconvert_exporter": "python",
   "pygments_lexer": "ipython3",
   "version": "3.13.5"
  }
 },
 "nbformat": 4,
 "nbformat_minor": 5
}
