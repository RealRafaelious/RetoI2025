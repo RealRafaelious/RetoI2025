{
 "cells": [
  {
   "cell_type": "markdown",
   "id": "54c83950",
   "metadata": {},
   "source": [
    "RETO 1 - CEIBAL\n"
   ]
  },
  {
   "cell_type": "code",
   "execution_count": 12,
   "id": "69f362b0",
   "metadata": {},
   "outputs": [
    {
     "data": {
      "text/plain": [
       "<module 'Limpieza.LimpiarEstudiantes' from 'c:\\\\Users\\\\arias\\\\Desktop\\\\RETO1\\\\RetoI2025\\\\Limpieza\\\\LimpiarEstudiantes.py'>"
      ]
     },
     "execution_count": 12,
     "metadata": {},
     "output_type": "execute_result"
    }
   ],
   "source": [
    "from Limpieza import LimpiarCentros # si LimpiarCentros.py contiene la lógica de limpieza\n",
    "from Limpieza import LimpiarDocentes\n",
    "from Limpieza import LimpiarEstudiantes \n",
    "\n",
    "#Primero se llama a los scripts de limpieza de datos \n",
    "LimpiarCentros\n",
    "LimpiarDocentes\n",
    "LimpiarEstudiantes"
   ]
  },
  {
   "cell_type": "markdown",
   "id": "f6a57603",
   "metadata": {},
   "source": [
    "Pregunta 1. ¿Varía el uso de la plataforma CREA según el grado educativo? ¿Hay diferencias por sexo?\n"
   ]
  },
  {
   "cell_type": "code",
   "execution_count": 7,
   "id": "741ef752",
   "metadata": {},
   "outputs": [
    {
     "data": {
      "text/plain": [
       "<module 'Preguntas.Pregunta1' from 'c:\\\\Users\\\\arias\\\\Desktop\\\\RETO1\\\\RetoI2025\\\\Preguntas\\\\Pregunta1.py'>"
      ]
     },
     "execution_count": 7,
     "metadata": {},
     "output_type": "execute_result"
    }
   ],
   "source": [
    "from Preguntas import Pregunta1\n",
    "Pregunta1"
   ]
  },
  {
   "cell_type": "markdown",
   "id": "e5434228",
   "metadata": {},
   "source": [
    "2. ¿Hay diferencia entre el uso de CREA y la conexión por dispositivo? ¿Correlacionan?\n"
   ]
  },
  {
   "cell_type": "code",
   "execution_count": 8,
   "id": "ca15addb",
   "metadata": {},
   "outputs": [
    {
     "data": {
      "text/plain": [
       "<module 'Preguntas.Pregunta2' from 'c:\\\\Users\\\\arias\\\\Desktop\\\\RETO1\\\\RetoI2025\\\\Preguntas\\\\Pregunta2.py'>"
      ]
     },
     "execution_count": 8,
     "metadata": {},
     "output_type": "execute_result"
    }
   ],
   "source": [
    "from Preguntas import Pregunta2\n",
    "Pregunta2"
   ]
  },
  {
   "cell_type": "markdown",
   "id": "68554c42",
   "metadata": {},
   "source": [
    "Pregunta 3. ¿Hay diferencias de uso del dispositivo y de CREA por contextos de vulnerabilidad?\n"
   ]
  },
  {
   "cell_type": "code",
   "execution_count": 9,
   "id": "55e8d627",
   "metadata": {},
   "outputs": [
    {
     "data": {
      "text/plain": [
       "<module 'Preguntas.Pregunta3' from 'c:\\\\Users\\\\arias\\\\Desktop\\\\RETO1\\\\RetoI2025\\\\Preguntas\\\\Pregunta3.py'>"
      ]
     },
     "execution_count": 9,
     "metadata": {},
     "output_type": "execute_result"
    }
   ],
   "source": [
    "from Preguntas import Pregunta3\n",
    "Pregunta3"
   ]
  },
  {
   "cell_type": "markdown",
   "id": "d34e2b45",
   "metadata": {},
   "source": [
    "Pregunta 4. ¿Los estudiantes que comparten docente muestran patrones de uso similares?\n"
   ]
  },
  {
   "cell_type": "code",
   "execution_count": 10,
   "id": "22b21893",
   "metadata": {},
   "outputs": [
    {
     "ename": "SyntaxError",
     "evalue": "invalid decimal literal (Pregunta4.py, line 53)",
     "output_type": "error",
     "traceback": [
      "Traceback \u001b[36m(most recent call last)\u001b[39m:\n",
      "  File \u001b[92m~\\AppData\\Roaming\\Python\\Python313\\site-packages\\IPython\\core\\interactiveshell.py:3699\u001b[39m in \u001b[95mrun_code\u001b[39m\n    exec(code_obj, self.user_global_ns, self.user_ns)\n",
      "\u001b[36m  \u001b[39m\u001b[36mCell\u001b[39m\u001b[36m \u001b[39m\u001b[32mIn[10]\u001b[39m\u001b[32m, line 1\u001b[39m\n\u001b[31m    \u001b[39m\u001b[31mfrom Preguntas import Pregunta4\u001b[39m\n",
      "  \u001b[36mFile \u001b[39m\u001b[32mc:\\Users\\arias\\Desktop\\RETO1\\RetoI2025\\Preguntas\\Pregunta4.py:53\u001b[39m\n\u001b[31m    \u001b[39m\u001b[31m>>>>>>> 8ed6438903c7dba7b6b30506a822b4d8f22bb1cf\u001b[39m\n            ^\n\u001b[31mSyntaxError\u001b[39m\u001b[31m:\u001b[39m invalid decimal literal\n"
     ]
    }
   ],
   "source": [
    "from Preguntas import Pregunta4\n",
    "Pregunta4"
   ]
  },
  {
   "cell_type": "markdown",
   "id": "bee0f9a5",
   "metadata": {},
   "source": [
    "Pregunta 5. ¿El sexo del docente influye en el nivel de conexión de sus estudiantes?\n"
   ]
  },
  {
   "cell_type": "code",
   "execution_count": null,
   "id": "69f7fab7",
   "metadata": {},
   "outputs": [],
   "source": [
    "from Preguntas import Pregunta5\n",
    "Pregunta5"
   ]
  },
  {
   "cell_type": "markdown",
   "id": "8b53cb37",
   "metadata": {},
   "source": [
    "Pregunta Bonus\n"
   ]
  },
  {
   "cell_type": "code",
   "execution_count": null,
   "id": "a5c18a6a",
   "metadata": {},
   "outputs": [],
   "source": [
    "from Preguntas import PreguntaBonus\n",
    "PreguntaBonus"
   ]
  },
  {
   "cell_type": "markdown",
   "id": "92c8ac8b",
   "metadata": {},
   "source": [
    "Histograma de la pregunta Bonus\n"
   ]
  },
  {
   "cell_type": "code",
   "execution_count": 11,
   "id": "cf84abb0",
   "metadata": {},
   "outputs": [
    {
     "ename": "ModuleNotFoundError",
     "evalue": "No module named 'sklearn'",
     "output_type": "error",
     "traceback": [
      "\u001b[31m---------------------------------------------------------------------------\u001b[39m",
      "\u001b[31mModuleNotFoundError\u001b[39m                       Traceback (most recent call last)",
      "\u001b[36mCell\u001b[39m\u001b[36m \u001b[39m\u001b[32mIn[11]\u001b[39m\u001b[32m, line 1\u001b[39m\n\u001b[32m----> \u001b[39m\u001b[32m1\u001b[39m \u001b[38;5;28;01mfrom\u001b[39;00m\u001b[38;5;250m \u001b[39m\u001b[34;01mPreguntas\u001b[39;00m\u001b[38;5;250m \u001b[39m\u001b[38;5;28;01mimport\u001b[39;00m PreguntaBonusHistograma\n\u001b[32m      2\u001b[39m PreguntaBonusHistograma\n",
      "\u001b[36mFile \u001b[39m\u001b[32mc:\\Users\\arias\\Desktop\\RETO1\\RetoI2025\\Preguntas\\PreguntaBonusHistograma.py:3\u001b[39m\n\u001b[32m      1\u001b[39m \u001b[38;5;28;01mimport\u001b[39;00m\u001b[38;5;250m \u001b[39m\u001b[34;01mpandas\u001b[39;00m\u001b[38;5;250m \u001b[39m\u001b[38;5;28;01mas\u001b[39;00m\u001b[38;5;250m \u001b[39m\u001b[34;01mpd\u001b[39;00m\n\u001b[32m      2\u001b[39m \u001b[38;5;28;01mimport\u001b[39;00m\u001b[38;5;250m \u001b[39m\u001b[34;01mmatplotlib\u001b[39;00m\u001b[34;01m.\u001b[39;00m\u001b[34;01mpyplot\u001b[39;00m\u001b[38;5;250m \u001b[39m\u001b[38;5;28;01mas\u001b[39;00m\u001b[38;5;250m \u001b[39m\u001b[34;01mplt\u001b[39;00m\n\u001b[32m----> \u001b[39m\u001b[32m3\u001b[39m \u001b[38;5;28;01mfrom\u001b[39;00m\u001b[38;5;250m \u001b[39m\u001b[34;01msklearn\u001b[39;00m\u001b[34;01m.\u001b[39;00m\u001b[34;01mcluster\u001b[39;00m\u001b[38;5;250m \u001b[39m\u001b[38;5;28;01mimport\u001b[39;00m KMeans\n\u001b[32m      4\u001b[39m \u001b[38;5;28;01mfrom\u001b[39;00m\u001b[38;5;250m \u001b[39m\u001b[34;01msklearn\u001b[39;00m\u001b[34;01m.\u001b[39;00m\u001b[34;01mpreprocessing\u001b[39;00m\u001b[38;5;250m \u001b[39m\u001b[38;5;28;01mimport\u001b[39;00m StandardScaler\n\u001b[32m      5\u001b[39m \u001b[38;5;28;01mimport\u001b[39;00m\u001b[38;5;250m \u001b[39m\u001b[34;01mseaborn\u001b[39;00m\u001b[38;5;250m \u001b[39m\u001b[38;5;28;01mas\u001b[39;00m\u001b[38;5;250m \u001b[39m\u001b[34;01msns\u001b[39;00m\n",
      "\u001b[31mModuleNotFoundError\u001b[39m: No module named 'sklearn'"
     ]
    }
   ],
   "source": [
    "from Preguntas import PreguntaBonusHistograma\n",
    "PreguntaBonusHistograma"
   ]
  }
 ],
 "metadata": {
  "kernelspec": {
   "display_name": "Python 3",
   "language": "python",
   "name": "python3"
  },
  "language_info": {
   "codemirror_mode": {
    "name": "ipython",
    "version": 3
   },
   "file_extension": ".py",
   "mimetype": "text/x-python",
   "name": "python",
   "nbconvert_exporter": "python",
   "pygments_lexer": "ipython3",
   "version": "3.13.5"
  }
 },
 "nbformat": 4,
 "nbformat_minor": 5
}
