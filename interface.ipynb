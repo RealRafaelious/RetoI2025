{
 "cells": [
  {
   "cell_type": "markdown",
   "id": "54c83950",
   "metadata": {},
   "source": [
    "RETO 1 - CEIBAL\n"
   ]
  },
  {
   "cell_type": "code",
   "execution_count": null,
   "id": "69f362b0",
   "metadata": {},
   "outputs": [],
   "source": [
    "from Limpieza import LimpiarCentros # si LimpiarCentros.py contiene la lógica de limpieza\n",
    "from Limpieza import LimpiarDocentes\n",
    "from Limpieza import LimpiarEstudiantes \n",
    "\n",
    "#Primero se llama a los scripts de limpieza de datos \n",
    "LimpiarCentros\n",
    "LimpiarDocentes\n",
    "LimpiarEstudiantes"
   ]
  },
  {
   "cell_type": "markdown",
   "id": "f6a57603",
   "metadata": {},
   "source": [
    "Pregunta 1. ¿Varía el uso de la plataforma CREA según el grado educativo? ¿Hay diferencias por sexo?\n"
   ]
  },
  {
   "cell_type": "code",
   "execution_count": null,
   "id": "741ef752",
   "metadata": {},
   "outputs": [],
   "source": [
    "from Preguntas import Pregunta1\n",
    "Pregunta1"
   ]
  },
  {
   "cell_type": "markdown",
   "id": "e5434228",
   "metadata": {},
   "source": [
    "2. ¿Hay diferencia entre el uso de CREA y la conexión por dispositivo? ¿Correlacionan?\n"
   ]
  },
  {
   "cell_type": "code",
   "execution_count": null,
   "id": "ca15addb",
   "metadata": {},
   "outputs": [],
   "source": [
    "from Preguntas import Pregunta2\n",
    "Pregunta2"
   ]
  },
  {
   "cell_type": "markdown",
   "id": "68554c42",
   "metadata": {},
   "source": [
    "Pregunta 3. ¿Hay diferencias de uso del dispositivo y de CREA por contextos de vulnerabilidad?\n"
   ]
  },
  {
   "cell_type": "code",
   "execution_count": null,
   "id": "55e8d627",
   "metadata": {},
   "outputs": [],
   "source": [
    "from Preguntas import Pregunta3\n",
    "Pregunta3"
   ]
  },
  {
   "cell_type": "markdown",
   "id": "d34e2b45",
   "metadata": {},
   "source": [
    "Pregunta 4. ¿Los estudiantes que comparten docente muestran patrones de uso similares?\n"
   ]
  },
  {
   "cell_type": "code",
   "execution_count": null,
   "id": "22b21893",
   "metadata": {},
   "outputs": [],
   "source": [
    "from Preguntas import Pregunta4\n",
    "Pregunta4"
   ]
  },
  {
   "cell_type": "markdown",
   "id": "bee0f9a5",
   "metadata": {},
   "source": [
    "Pregunta 5. ¿El sexo del docente influye en el nivel de conexión de sus estudiantes?\n"
   ]
  },
  {
   "cell_type": "code",
   "execution_count": null,
   "id": "69f7fab7",
   "metadata": {},
   "outputs": [],
   "source": [
    "from Preguntas import Pregunta5\n",
    "Pregunta5"
   ]
  },
  {
   "cell_type": "markdown",
   "id": "8b53cb37",
   "metadata": {},
   "source": []
  }
 ],
 "metadata": {
  "kernelspec": {
   "display_name": "Python 3",
   "language": "python",
   "name": "python3"
  },
  "language_info": {
   "codemirror_mode": {
    "name": "ipython",
    "version": 3
   },
   "file_extension": ".py",
   "mimetype": "text/x-python",
   "name": "python",
   "nbconvert_exporter": "python",
   "pygments_lexer": "ipython3",
   "version": "3.13.5"
  }
 },
 "nbformat": 4,
 "nbformat_minor": 5
}
